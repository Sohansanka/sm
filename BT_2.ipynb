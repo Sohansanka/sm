{
  "nbformat": 4,
  "nbformat_minor": 0,
  "metadata": {
    "colab": {
      "provenance": [],
      "authorship_tag": "ABX9TyMCqI62DCSsWjuj0/Zh3vJl",
      "include_colab_link": true
    },
    "kernelspec": {
      "name": "python3",
      "display_name": "Python 3"
    },
    "language_info": {
      "name": "python"
    }
  },
  "cells": [
    {
      "cell_type": "markdown",
      "metadata": {
        "id": "view-in-github",
        "colab_type": "text"
      },
      "source": [
        "<a href=\"https://colab.research.google.com/github/Sohansanka/sm/blob/main/BT_2.ipynb\" target=\"_parent\"><img src=\"https://colab.research.google.com/assets/colab-badge.svg\" alt=\"Open In Colab\"/></a>"
      ]
    },
    {
      "cell_type": "code",
      "execution_count": 1,
      "metadata": {
        "colab": {
          "base_uri": "https://localhost:8080/"
        },
        "id": "yDDxF8dTuCho",
        "outputId": "a6c53490-50b8-42e4-b4ed-68fe4557bd6f"
      },
      "outputs": [
        {
          "output_type": "stream",
          "name": "stdout",
          "text": [
            "Mean Squared Error: 2283256438045.7373\n"
          ]
        }
      ],
      "source": [
        "import numpy as np\n",
        "import pandas as pd\n",
        "from sklearn.model_selection import train_test_split\n",
        "from xgboost import XGBRegressor\n",
        "from sklearn.metrics import mean_squared_error\n",
        "np.random.seed(0)\n",
        "n_samples = 1000\n",
        "\n",
        "income = np.random.normal(50000, 10000, n_samples)\n",
        "schools = np.random.normal(8, 2, n_samples)\n",
        "hospitals = np.random.normal(5, 1, n_samples)\n",
        "crime_rates = np.random.normal(3, 1, n_samples)\n",
        "\n",
        "home_prices = 100000 + 5000*income + 2000*schools + 5000*hospitals - 10000*crime_rates + np.random.normal(0, 10000, n_samples)\n",
        "\n",
        "data = pd.DataFrame({'Income': income, 'Schools': schools, 'Hospitals': hospitals, 'CrimeRates': crime_rates, 'HomePrices': home_prices})\n",
        "\n",
        "X = data[['Income', 'Schools', 'Hospitals', 'CrimeRates']]\n",
        "y = data['HomePrices']\n",
        "X_train, X_test, y_train, y_test = train_test_split(X, y, test_size=0.2, random_state=42)\n",
        "\n",
        "model = XGBRegressor()\n",
        "model.fit(X_train, y_train)\n",
        "\n",
        "y_pred = model.predict(X_test)\n",
        "\n",
        "mse = mean_squared_error(y_test, y_pred)\n",
        "print(\"Mean Squared Error:\", mse)"
      ]
    }
  ]
}